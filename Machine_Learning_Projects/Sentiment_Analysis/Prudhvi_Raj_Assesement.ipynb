{
 "cells": [
  {
   "cell_type": "code",
   "execution_count": 124,
   "id": "6c6d363c",
   "metadata": {},
   "outputs": [
    {
     "name": "stdout",
     "output_type": "stream",
     "text": [
      "Requirement already satisfied: requests in ./anaconda3/lib/python3.11/site-packages (2.31.0)\n",
      "Requirement already satisfied: nltk in ./anaconda3/lib/python3.11/site-packages (3.8.1)\n",
      "Requirement already satisfied: charset-normalizer<4,>=2 in ./anaconda3/lib/python3.11/site-packages (from requests) (2.0.4)\n",
      "Requirement already satisfied: idna<4,>=2.5 in ./anaconda3/lib/python3.11/site-packages (from requests) (3.4)\n",
      "Requirement already satisfied: urllib3<3,>=1.21.1 in ./anaconda3/lib/python3.11/site-packages (from requests) (1.26.16)\n",
      "Requirement already satisfied: certifi>=2017.4.17 in ./anaconda3/lib/python3.11/site-packages (from requests) (2023.7.22)\n",
      "Requirement already satisfied: click in ./anaconda3/lib/python3.11/site-packages (from nltk) (8.0.4)\n",
      "Requirement already satisfied: joblib in ./anaconda3/lib/python3.11/site-packages (from nltk) (1.2.0)\n",
      "Requirement already satisfied: regex>=2021.8.3 in ./anaconda3/lib/python3.11/site-packages (from nltk) (2022.7.9)\n",
      "Requirement already satisfied: tqdm in ./anaconda3/lib/python3.11/site-packages (from nltk) (4.65.0)\n",
      "Note: you may need to restart the kernel to use updated packages.\n"
     ]
    }
   ],
   "source": [
    "pip install requests nltk"
   ]
  },
  {
   "cell_type": "code",
   "execution_count": 125,
   "id": "480b66d3",
   "metadata": {},
   "outputs": [
    {
     "name": "stdout",
     "output_type": "stream",
     "text": [
      "Requirement already satisfied: requests in ./anaconda3/lib/python3.11/site-packages (2.31.0)\n",
      "Requirement already satisfied: transformers in ./anaconda3/lib/python3.11/site-packages (4.29.2)\n",
      "Requirement already satisfied: charset-normalizer<4,>=2 in ./anaconda3/lib/python3.11/site-packages (from requests) (2.0.4)\n",
      "Requirement already satisfied: idna<4,>=2.5 in ./anaconda3/lib/python3.11/site-packages (from requests) (3.4)\n",
      "Requirement already satisfied: urllib3<3,>=1.21.1 in ./anaconda3/lib/python3.11/site-packages (from requests) (1.26.16)\n",
      "Requirement already satisfied: certifi>=2017.4.17 in ./anaconda3/lib/python3.11/site-packages (from requests) (2023.7.22)\n",
      "Requirement already satisfied: filelock in ./anaconda3/lib/python3.11/site-packages (from transformers) (3.9.0)\n",
      "Requirement already satisfied: huggingface-hub<1.0,>=0.14.1 in ./anaconda3/lib/python3.11/site-packages (from transformers) (0.15.1)\n",
      "Requirement already satisfied: numpy>=1.17 in ./anaconda3/lib/python3.11/site-packages (from transformers) (1.24.3)\n",
      "Requirement already satisfied: packaging>=20.0 in ./anaconda3/lib/python3.11/site-packages (from transformers) (23.0)\n",
      "Requirement already satisfied: pyyaml>=5.1 in ./anaconda3/lib/python3.11/site-packages (from transformers) (6.0)\n",
      "Requirement already satisfied: regex!=2019.12.17 in ./anaconda3/lib/python3.11/site-packages (from transformers) (2022.7.9)\n",
      "Requirement already satisfied: tokenizers!=0.11.3,<0.14,>=0.11.1 in ./anaconda3/lib/python3.11/site-packages (from transformers) (0.13.2)\n",
      "Requirement already satisfied: tqdm>=4.27 in ./anaconda3/lib/python3.11/site-packages (from transformers) (4.65.0)\n",
      "Requirement already satisfied: fsspec in ./anaconda3/lib/python3.11/site-packages (from huggingface-hub<1.0,>=0.14.1->transformers) (2023.4.0)\n",
      "Requirement already satisfied: typing-extensions>=3.7.4.3 in ./anaconda3/lib/python3.11/site-packages (from huggingface-hub<1.0,>=0.14.1->transformers) (4.7.1)\n",
      "Note: you may need to restart the kernel to use updated packages.\n"
     ]
    }
   ],
   "source": [
    "pip install requests transformers"
   ]
  },
  {
   "cell_type": "code",
   "execution_count": 126,
   "id": "83251020",
   "metadata": {},
   "outputs": [
    {
     "name": "stdout",
     "output_type": "stream",
     "text": [
      "Requirement already satisfied: requests in ./anaconda3/lib/python3.11/site-packages (2.31.0)\n",
      "Requirement already satisfied: charset-normalizer<4,>=2 in ./anaconda3/lib/python3.11/site-packages (from requests) (2.0.4)\n",
      "Requirement already satisfied: idna<4,>=2.5 in ./anaconda3/lib/python3.11/site-packages (from requests) (3.4)\n",
      "Requirement already satisfied: urllib3<3,>=1.21.1 in ./anaconda3/lib/python3.11/site-packages (from requests) (1.26.16)\n",
      "Requirement already satisfied: certifi>=2017.4.17 in ./anaconda3/lib/python3.11/site-packages (from requests) (2023.7.22)\n",
      "Note: you may need to restart the kernel to use updated packages.\n"
     ]
    }
   ],
   "source": [
    "pip install requests"
   ]
  },
  {
   "cell_type": "code",
   "execution_count": null,
   "id": "ef31133d",
   "metadata": {},
   "outputs": [],
   "source": []
  },
  {
   "cell_type": "code",
   "execution_count": null,
   "id": "22f57f48",
   "metadata": {},
   "outputs": [],
   "source": []
  },
  {
   "cell_type": "code",
   "execution_count": null,
   "id": "e2094bd2",
   "metadata": {},
   "outputs": [],
   "source": []
  },
  {
   "cell_type": "code",
   "execution_count": null,
   "id": "37f15f1b",
   "metadata": {},
   "outputs": [],
   "source": []
  },
  {
   "cell_type": "code",
   "execution_count": null,
   "id": "a0311b80",
   "metadata": {},
   "outputs": [],
   "source": []
  },
  {
   "cell_type": "code",
   "execution_count": null,
   "id": "e7a90307",
   "metadata": {},
   "outputs": [],
   "source": []
  },
  {
   "cell_type": "code",
   "execution_count": null,
   "id": "b08c599c",
   "metadata": {},
   "outputs": [],
   "source": []
  },
  {
   "cell_type": "code",
   "execution_count": null,
   "id": "86588754",
   "metadata": {},
   "outputs": [],
   "source": []
  },
  {
   "cell_type": "code",
   "execution_count": 127,
   "id": "1e5ea8d6",
   "metadata": {},
   "outputs": [
    {
     "name": "stderr",
     "output_type": "stream",
     "text": [
      "[nltk_data] Downloading package vader_lexicon to\n",
      "[nltk_data]     /Users/raj/nltk_data...\n",
      "[nltk_data]   Package vader_lexicon is already up-to-date!\n"
     ]
    },
    {
     "name": "stdout",
     "output_type": "stream",
     "text": [
      "/Users/raj/Desktop/Emaa_assesment/stanfordSentimentTreebank.zip\n",
      "File saved to: /Users/raj/Desktop/Emaa_assesment/stanfordSentimentTreebank.zip\n",
      "ZIP file extracted\n"
     ]
    }
   ],
   "source": [
    "import nltk\n",
    "import requests\n",
    "import zipfile\n",
    "import string\n",
    "import os\n",
    "from nltk.corpus import stopwords\n",
    "from nltk.sentiment.vader import SentimentIntensityAnalyzer\n",
    "from nltk.sentiment import SentimentIntensityAnalyzer\n",
    "\n",
    "nltk.download(\"vader_lexicon\")\n",
    "\n",
    "dataset_url = \"http://nlp.stanford.edu/~socherr/stanfordSentimentTreebank.zip\"\n",
    "download_path = r\"/Users/raj/Desktop/Emaa_assesment\"\n",
    "\n",
    "filename = os.path.join(download_path, \"stanfordSentimentTreebank.zip\")\n",
    "\n",
    "\n",
    "response = requests.get(dataset_url)\n",
    "\n",
    "if response.status_code == 200:\n",
    "   \n",
    "    print(filename)\n",
    "    \n",
    "    with open(filename, \"wb\") as file:\n",
    "        file.write(response.content)\n",
    "    \n",
    "    print(f\"File saved to: {filename}\")\n",
    "    \n",
    "with zipfile.ZipFile(filename, 'r') as zip_ref:\n",
    "    zip_ref.extractall(download_path)\n",
    "\n",
    "print(\"ZIP file extracted\")\n"
   ]
  },
  {
   "cell_type": "code",
   "execution_count": 128,
   "id": "10459b94",
   "metadata": {},
   "outputs": [
    {
     "name": "stdout",
     "output_type": "stream",
     "text": [
      "Final Result : very negative, score: 0.128\n",
      "Final Result : negative, score: 0.322\n",
      "Final Result : positive, score: 0.608\n",
      "Final Result : neutral, score: 0.592\n",
      "Final Result : neutral, score: 0.464\n",
      "Final Result : neutral, score: 0.412\n",
      "Final Result : neutral, score: 0.412\n",
      "Final Result : very negative, score: 0.176\n",
      "Final Result : negative, score: 0.307\n",
      "Final Result : very negative, score: 0.0\n"
     ]
    },
    {
     "name": "stderr",
     "output_type": "stream",
     "text": [
      "[nltk_data] Downloading package stopwords to /Users/raj/nltk_data...\n",
      "[nltk_data]   Package stopwords is already up-to-date!\n"
     ]
    }
   ],
   "source": [
    "download_path = r\"/Users/raj/Desktop/Emaa_assesment\"\n",
    "nltk.download(\"stopwords\")\n",
    "stopWords = set(stopwords.words(\"english\"))\n",
    "\n",
    "\n",
    "fileName= r\"stanfordSentimentTreebank/datasetSentences.txt\"\n",
    "content = os.path.join(download_path,fileName)\n",
    "\n",
    "sentences = []\n",
    "\n",
    "\n",
    "if os.path.exists(content):\n",
    "\n",
    "    with open(content, encoding = 'utf-8') as file:\n",
    "\n",
    "        sentences = file.readlines()\n",
    "#         print(sentences)\n",
    "        for i, sentence in enumerate(sentences[1:11]): \n",
    "            \n",
    "            finalText = []\n",
    "            lowercase = sentence.lower() \n",
    "            cleanedText = lowercase.translate(str.maketrans('','',string.punctuation))\n",
    "            words = cleanedText.split()\n",
    "            filtered_words = [word for word in words if word not in stopWords]\n",
    "            cleaned_text = ' '.join(filtered_words)\n",
    "            finalText.append(cleaned_text)\n",
    "            \n",
    "            \n",
    "            def divideData(data):\n",
    "                \n",
    "                file1_content = data              \n",
    "        \n",
    "                NewfileName= r\"stanfordSentimentTreebank/datasetSplit.txt\"\n",
    "                file2_path = os.path.join(download_path,NewfileName)\n",
    "                file2_content = {}\n",
    "                with open(file2_path, \"r\", encoding=\"utf-8\") as file2:\n",
    "                    for line in file2: \n",
    "                        sentence_index, split_label = line.strip().split(',')\n",
    "                        file2_content[sentence_index] = split_label\n",
    "\n",
    "                train_sentences = []\n",
    "                test_sentences = []\n",
    "                dev_sentences = []\n",
    "\n",
    "                for sentence_index, sentence_text in file1_content.items():\n",
    "                    split_label = file2_content.get(sentence_index)\n",
    "\n",
    "\n",
    "                    if split_label == '1':\n",
    "                        train_sentences.append(sentence_text)\n",
    "                    elif split_label == '2':\n",
    "                        test_sentences.append(sentence_text)\n",
    "                    elif split_label == '3':   \n",
    "                        dev_sentences.append(sentence_text)\n",
    "                        \n",
    "                for sentence in train_sentences:\n",
    "                    finalModel(sentence)\n",
    "                for sentence in test_sentences:\n",
    "                    finalModel(sentence)\n",
    "\n",
    "                \n",
    "            def finalModel(text):\n",
    "                model = SentimentIntensityAnalyzer()\n",
    "                score = model.polarity_scores(text)\n",
    "                \n",
    "                positive = score['pos']\n",
    "                sentiment_label = mapping(positive)\n",
    "                \n",
    "                \n",
    "                \n",
    "            def mapping (pos):\n",
    "                \n",
    "                cutoffs = [0, 0.2, 0.4, 0.6, 0.8, 1.0]\n",
    "                \n",
    "                \n",
    "#                 very negative = 0, 0.2\n",
    "#                 negative = 0.2, 0.4\n",
    "#                 neutral = 0.4, 0.6\n",
    "#                 positive = 0.6, 0.8\n",
    "#                 very positive =  0.8, 1.0\n",
    "                \n",
    "                labels = [\"very negative\", \"negative\", \"neutral\", \"positive\", \"very positive\"]\n",
    "                finalOutput=[]\n",
    "                for i in range(len(cutoffs)):\n",
    "                    \n",
    "                    \n",
    "                    if cutoffs[i] <= pos < cutoffs[i + 1]:\n",
    "                        \n",
    "                        output = f\"Final Result : {labels[i]}, score: {pos}\"\n",
    "                        finalOutput.append(output)\n",
    "                        \n",
    "                for index, value in enumerate(finalOutput):\n",
    "                    print(f\"{value}\")\n",
    "\n",
    "                          \n",
    "            my_dict = {}\n",
    "            for i in finalText:\n",
    "                words = i.split(' ',1)             \n",
    "                if len(words) == 2:\n",
    "                    key, value = words\n",
    "                    my_dict[key] = value\n",
    "            divideData(my_dict)\n",
    "#             for index, value in my_dict:\n",
    "#                 divideData(index, value)\n",
    "\n",
    "\n",
    "            \n",
    "                \n",
    "    \n",
    "\n"
   ]
  },
  {
   "cell_type": "code",
   "execution_count": null,
   "id": "07eb3325",
   "metadata": {},
   "outputs": [],
   "source": [
    "\n",
    "\n"
   ]
  },
  {
   "cell_type": "code",
   "execution_count": null,
   "id": "a3207764",
   "metadata": {},
   "outputs": [],
   "source": []
  },
  {
   "cell_type": "code",
   "execution_count": null,
   "id": "c3ad9ebf",
   "metadata": {},
   "outputs": [],
   "source": []
  }
 ],
 "metadata": {
  "kernelspec": {
   "display_name": "Python 3 (ipykernel)",
   "language": "python",
   "name": "python3"
  },
  "language_info": {
   "codemirror_mode": {
    "name": "ipython",
    "version": 3
   },
   "file_extension": ".py",
   "mimetype": "text/x-python",
   "name": "python",
   "nbconvert_exporter": "python",
   "pygments_lexer": "ipython3",
   "version": "3.11.4"
  }
 },
 "nbformat": 4,
 "nbformat_minor": 5
}
